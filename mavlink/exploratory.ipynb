{
 "cells": [
  {
   "cell_type": "code",
   "execution_count": 1,
   "metadata": {},
   "outputs": [
    {
     "name": "stdout",
     "output_type": "stream",
     "text": [
      "connection established\n"
     ]
    }
   ],
   "source": [
    "from pymavlink import mavutil\n",
    "import numpy\n",
    "# Create a connection to the UDP endpoint\n",
    "master = mavutil.mavlink_connection('udp:127.0.0.1:14551')\n",
    "master.wait_heartbeat(timeout=10)\n",
    "print(\"connection established\")"
   ]
  },
  {
   "cell_type": "code",
   "execution_count": 2,
   "metadata": {},
   "outputs": [],
   "source": [
    "def handle_mavlink_message(master):\n",
    "    \"\"\"\n",
    "    Handle a MAVLink message.\n",
    "    :param master: A MAVLink connection instance.\n",
    "    \"\"\"\n",
    "    # Wait for a new message.\n",
    "    msg = master.recv_match(blocking=True)\n",
    "\n",
    "    # If a message has been received, handle it.\n",
    "    if msg is not None:\n",
    "        # Handle different message types.\n",
    "        if msg.get_type() == 'ATTITUDE':\n",
    "            print(f\"Attitude: Roll={msg.roll}, Pitch={msg.pitch}, Yaw={msg.yaw}\")\n",
    "        elif msg.get_type() == 'GPS_RAW_INT':\n",
    "            print(f\"GPS: Lat={msg.lat / 1e7}, Lon={msg.lon / 1e7}, Alt={msg.alt / 1e3}m\")\n",
    "        elif msg.get_type() == 'SYS_STATUS':\n",
    "            print(f\"Battery: Voltage={msg.voltage_battery / 1000.0}V, Current={msg.current_battery / 100.0}A\")\n"
   ]
  },
  {
   "cell_type": "code",
   "execution_count": null,
   "metadata": {},
   "outputs": [],
   "source": [
    "while True:\n",
    "    handle_mavlink_message(master)"
   ]
  },
  {
   "cell_type": "code",
   "execution_count": 5,
   "metadata": {},
   "outputs": [],
   "source": [
    "from pymavlink import mavutil\n",
    "from pymavlink.dialects.v20 import common as mavlink2\n",
    "\n",
    "# Replace with your connection string\n",
    "master = mavutil.mavlink_connection(\"COM3\",baud=57600)\n",
    "\n",
    "# Wait for the heartbeat message to ensure the connection is established\n",
    "master.wait_heartbeat()\n",
    "\n",
    "# Clear any existing missions\n",
    "master.mav.mission_clear_all_send(master.target_system, master.target_component)\n",
    "\n",
    "# Define the mission items\n",
    "mission_items = [\n",
    "    mavlink2.MAVLink_mission_item_message(\n",
    "        0,  # target_system\n",
    "        0,  # target_component\n",
    "        0,  # seq\n",
    "        mavlink2.MAV_FRAME_GLOBAL_RELATIVE_ALT,  # frame\n",
    "        mavlink2.MAV_CMD_NAV_WAYPOINT,  # command\n",
    "        0,  # current\n",
    "        1,  # autocontinue\n",
    "        0, 0, 0, 0,  # params 1-4\n",
    "        34.052235,  # x (latitude)\n",
    "        -118.243683,  # y (longitude)\n",
    "        10  # z (altitude)\n",
    "    )\n",
    "    # Add more mission items as needed\n",
    "]\n",
    "\n",
    "# Send the mission count\n",
    "master.mav.mission_count_send(master.target_system, master.target_component, len(mission_items))\n",
    "\n",
    "# Send the mission items\n",
    "for i, item in enumerate(mission_items):\n",
    "    master.mav.send(item)\n",
    "    # Wait for the vehicle to acknowledge the mission item\n",
    "    master.recv_match(type='MISSION_ACK', blocking=True)\n",
    "\n",
    "# Set the first mission item as the active mission item\n",
    "master.mav.mission_set_current_send(master.target_system, master.target_component, 0)\n",
    "\n",
    "\n",
    "master.mav.command_long_send(\n",
    "    master.target_system,\n",
    "    master.target_component,\n",
    "    mavutil.mavlink.MAV_CMD_COMPONENT_ARM_DISARM,\n",
    "    0,\n",
    "    1, 0, 0, 0, 0, 0, 0)"
   ]
  },
  {
   "cell_type": "markdown",
   "metadata": {},
   "source": [
    "## Test Sending Data"
   ]
  },
  {
   "cell_type": "code",
   "execution_count": null,
   "metadata": {},
   "outputs": [],
   "source": [
    "mavlink_connection = mavutil.mavlink_connection(device='udpout:127.0.0.1:14550', baudrate=57600)\n",
    "mavlink_connection.wait_heartbeat()"
   ]
  },
  {
   "cell_type": "markdown",
   "metadata": {},
   "source": [
    "## Create Mission Pattern"
   ]
  },
  {
   "cell_type": "code",
   "execution_count": null,
   "metadata": {},
   "outputs": [],
   "source": [
    "\n",
    "\n",
    "from pymavlink import mavutil\n",
    "import time\n",
    "\n",
    "# Replace with the serial port and baudrate that your Pixhawk is connected to\n",
    "connection_string = 'COM6'\n",
    "baudrate = 57600\n",
    "\n",
    "# Connect to the Vehicle\n",
    "master = mavutil.mavlink_connection(connection_string, baud=baudrate)\n",
    "master.wait_heartbeat()\n",
    "\n",
    "# Replace with your desired landing coordinates\n",
    "landing_lat = 42.978990\n",
    "landing_lon = -81.144590\n",
    "landing_alt = 30  # altitude in meters\n",
    "\n",
    "# Clear any existing missions\n",
    "master.waypoint_clear_all_send()\n",
    "\n",
    "# Set mission count to 1 (for landing)\n",
    "master.waypoint_count_send(1)\n",
    "\n",
    "# Wait for the request for the waypoint\n",
    "msg = master.recv_match(type=['MISSION_REQUEST'], blocking=True)\n",
    "\n",
    "# Send landing waypoint\n",
    "master.mav.mission_item_send(\n",
    "    master.target_system,\n",
    "    master.target_component,\n",
    "    msg.seq,\n",
    "    mavutil.mavlink.MAV_FRAME_GLOBAL_RELATIVE_ALT,\n",
    "    mavutil.mavlink.MAV_CMD_NAV_LAND,\n",
    "    0,  # current\n",
    "    1,  # autocontinue\n",
    "    0, 0, 0,  # params 1-3 (not used)\n",
    "    landing_lat,\n",
    "    landing_lon,\n",
    "    landing_alt\n",
    ")\n",
    "\n",
    "# Wait for mission acknowledgement\n",
    "master.recv_match(type=['MISSION_ACK'], blocking=True)\n",
    "\n",
    "# Set mode to AUTO to start the mission\n",
    "master.mav.set_mode_send(\n",
    "    master.target_system,\n",
    "    mavutil.mavlink.MAV_MODE_AUTO_ARMED,\n",
    "    base_mode=mavutil.mavlink.MAV_MODE_FLAG_CUSTOM_MODE_ENABLED\n",
    ")\n",
    "\n",
    "# Arm the vehicle\n",
    "master.mav.command_long_send(\n",
    "    master.target_system,\n",
    "    master.target_component,\n",
    "    mavutil.mavlink.MAV_CMD_COMPONENT_ARM_DISARM,\n",
    "    0,  # confirmation\n",
    "    1,  # arm\n",
    "    0, 0, 0, 0, 0, 0  # unused parameters\n",
    ")\n",
    "\n",
    "# Start the mission\n",
    "master.mav.command_long_send(\n",
    "    master.target_system,\n",
    "    master.target_component,\n",
    "    mavutil.mavlink.MAV_CMD_MISSION_START,\n",
    "    0,  # confirmation\n",
    "    0, 0, 0, 0, 0, 0  # unused parameters\n",
    ")\n",
    "\n",
    "print(\"Mission started, vehicle is landing...\")\n"
   ]
  },
  {
   "cell_type": "code",
   "execution_count": null,
   "metadata": {},
   "outputs": [],
   "source": [
    "# "
   ]
  }
 ],
 "metadata": {
  "kernelspec": {
   "display_name": "venv",
   "language": "python",
   "name": "python3"
  },
  "language_info": {
   "codemirror_mode": {
    "name": "ipython",
    "version": 3
   },
   "file_extension": ".py",
   "mimetype": "text/x-python",
   "name": "python",
   "nbconvert_exporter": "python",
   "pygments_lexer": "ipython3",
   "version": "3.10.4"
  },
  "orig_nbformat": 4
 },
 "nbformat": 4,
 "nbformat_minor": 2
}
